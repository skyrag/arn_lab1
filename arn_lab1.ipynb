{
  "nbformat": 4,
  "nbformat_minor": 0,
  "metadata": {
    "colab": {
      "provenance": [],
      "authorship_tag": "ABX9TyNhy8zGQUbnnSgqZivxgyde",
      "include_colab_link": true
    },
    "kernelspec": {
      "name": "python3",
      "display_name": "Python 3"
    },
    "language_info": {
      "name": "python"
    }
  },
  "cells": [
    {
      "cell_type": "markdown",
      "metadata": {
        "id": "view-in-github",
        "colab_type": "text"
      },
      "source": [
        "<a href=\"https://colab.research.google.com/github/skyrag/arn_lab1/blob/main/arn_lab1.ipynb\" target=\"_parent\"><img src=\"https://colab.research.google.com/assets/colab-badge.svg\" alt=\"Open In Colab\"/></a>"
      ]
    },
    {
      "cell_type": "code",
      "execution_count": 39,
      "metadata": {
        "colab": {
          "base_uri": "https://localhost:8080/"
        },
        "id": "P2-fDOBdhR0M",
        "outputId": "5f15a027-f00f-4e36-9507-7ab685773f26"
      },
      "outputs": [
        {
          "output_type": "execute_result",
          "data": {
            "text/plain": [
              "array([[-0.07483987, -0.02137731,  0.16643007, ...,  0.11788567,\n",
              "         0.01514345,  0.25247577],\n",
              "       [-0.08527989,  0.07871992,  0.10008358, ..., -0.26400653,\n",
              "        -0.15117786,  0.48908381],\n",
              "       [-0.08845377, -0.11404897, -0.05399343, ..., -0.02824953,\n",
              "         0.26264308, -0.16021704],\n",
              "       ...,\n",
              "       [ 0.10055929, -0.15899298, -0.10681048, ...,  0.11393393,\n",
              "         0.28226914,  0.04952303],\n",
              "       [ 0.06549308, -0.20792627, -0.13599831, ..., -0.18667627,\n",
              "        -0.24619127,  0.21932519],\n",
              "       [-0.04154204, -0.01565812, -0.00650638, ..., -0.01492028,\n",
              "        -0.06947269,  0.07794472]])"
            ]
          },
          "metadata": {},
          "execution_count": 39
        }
      ],
      "source": [
        "import pandas as pd\n",
        "import sklearn as sk\n",
        "\n",
        "mice_eeg = pd.read_csv('EEG_mouse_data_1.csv')\n",
        "mice_eeg = mice_eeg.iloc[:, 1:26:]\n",
        "\n",
        "# normalize mice_eeg\n",
        "mice_eeg = (mice_eeg - mice_eeg.mean()) / mice_eeg.std()\n",
        "# mice_eeg\n",
        "mice_eeg_normalize = sk.preprocessing.normalize(mice_eeg)\n",
        "\n",
        "\n",
        "\n",
        "# shuffle mice_eeg_normalize\n",
        "mice_eeg_normalize = sk.utils.shuffle(mice_eeg_normalize)\n",
        "mice_eeg_normalize"
      ]
    }
  ]
}